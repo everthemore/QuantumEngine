{
 "cells": [
  {
   "cell_type": "code",
   "execution_count": 6,
   "metadata": {},
   "outputs": [],
   "source": [
    "import numpy as np\n",
    "from QuantumEngine import *"
   ]
  },
  {
   "cell_type": "markdown",
   "metadata": {},
   "source": [
    "## General tests"
   ]
  },
  {
   "cell_type": "code",
   "execution_count": 2,
   "metadata": {},
   "outputs": [
    {
     "name": "stdout",
     "output_type": "stream",
     "text": [
      "Initial state: \n",
      "  (0, 0)\t(1+0j)\n",
      "Setting a product state\n",
      "Result: \n",
      "  (21, 0)\t(1+0j)\n",
      "Constructing a random unitary\n",
      "Applying a random unitary\n",
      "Result: \n",
      "  (13, 0)\t1j\n",
      "After sqrt swap\n",
      "  (7, 0)\t(0.5+0.5j)\n",
      "  (13, 0)\t(-0.5+0.5j)\n"
     ]
    }
   ],
   "source": [
    "# Create a 3 qubit Hilbert space\n",
    "testH = HilbertSpace([2,2,2,2,2])\n",
    "\n",
    "# Initial state\n",
    "print(\"Initial state: \")\n",
    "print(testH.state)\n",
    "\n",
    "print(\"Setting a product state\")\n",
    "testH.setProductState([1,0,1,0,1])\n",
    "print(\"Result: \")\n",
    "print(testH.state)\n",
    "\n",
    "# Create a swap operator between sites\n",
    "print(\"Constructing a random unitary\")\n",
    "mySwap = testH.constructImaginarySwap(0,1)\n",
    "\n",
    "print(\"Applying a random unitary\")\n",
    "testH.applyUnitary(mySwap)\n",
    "print(\"Result: \")\n",
    "print(testH.state)\n",
    "\n",
    "\n",
    "mySqrtSwap = testH.constructSqrtSwap(1,3)\n",
    "testH.applyUnitary(mySqrtSwap)\n",
    "print(\"After sqrt swap\")\n",
    "print(testH.state)"
   ]
  },
  {
   "cell_type": "markdown",
   "metadata": {},
   "source": [
    "### Extending a Hilbert space (i.e. adding a qubit/qutrit etc)"
   ]
  },
  {
   "cell_type": "code",
   "execution_count": 3,
   "metadata": {},
   "outputs": [
    {
     "name": "stdout",
     "output_type": "stream",
     "text": [
      "  (2, 0)\t(1+0j)\n",
      "  (2, 0)\t(1+0j)\n",
      "  (8, 0)\t(1+0j)\n"
     ]
    }
   ],
   "source": [
    "H1 = HilbertSpace([2,2])\n",
    "H1.setProductState([1,0])\n",
    "print(H1.state)\n",
    "H1.extend([2,2])\n",
    "print(H1.state)\n",
    "H1.setProductState([1,0,0,0])\n",
    "print(H1.state)"
   ]
  },
  {
   "cell_type": "markdown",
   "metadata": {},
   "source": [
    "## Platformer ideas"
   ]
  },
  {
   "cell_type": "code",
   "execution_count": null,
   "metadata": {},
   "outputs": [],
   "source": [
    "class Player:\n",
    "    def __init__(self):\n",
    "        \n",
    "        self.numResources = 2\n",
    "        # Give the player a qubit and a qutrit \n",
    "        self.resources = [HilbertSpace([2]), HilbertSpace([3])]\n",
    "        \n",
    "        # Set the resources to a non-entangled initial state\n",
    "        for resource in self.resources:\n",
    "            resource.setProductState([0])\n",
    "    \n",
    "class Block:\n",
    "    def __init__(self, position, quantum=False):\n",
    "        \n",
    "        self.Hs = None\n",
    "        self.isQuantum = quantum\n",
    "        self.position = position\n",
    "        \n",
    "        # Turn the block into a qubit\n",
    "        if( quantum ):\n",
    "            self.Hs = HilbertSpace([2])\n",
    "            \n",
    "class Game:\n",
    "    def __init__(self):\n",
    "        # Set up game world (2D platformer?)\n",
    "        \n",
    "        self.player = Player()\n",
    "        self.blocks = []\n",
    "        \n",
    "        # Load level from file\n",
    "        classicalBlocks = [(1,0), (2,0), (5,0)]\n",
    "        quantumBlocks = [(3,0)]\n",
    "        \n",
    "        for i in classicalBlocks:\n",
    "            self.blocks.append( Block(i) )\n",
    "        for i in quantumBlocks:\n",
    "            self.blocks.append( Block(i), True )\n",
    "        \n",
    "    def update(self):\n",
    "        # Move player\n",
    "        \n",
    "        # If player jumps into block\n",
    "        if( True ):\n",
    "            # Classical game logic goes here:\n",
    "            # if resource empty:\n",
    "            #  Entangle a player resource with the touched block\n",
    "            # else:\n",
    "            #  think of smth else\n",
    "            # TODO\n",
    "            return\n",
    "    "
   ]
  }
 ],
 "metadata": {
  "kernelspec": {
   "display_name": "Python 3",
   "language": "python",
   "name": "python3"
  },
  "language_info": {
   "codemirror_mode": {
    "name": "ipython",
    "version": 3
   },
   "file_extension": ".py",
   "mimetype": "text/x-python",
   "name": "python",
   "nbconvert_exporter": "python",
   "pygments_lexer": "ipython3",
   "version": "3.7.6"
  },
  "toc": {
   "nav_menu": {},
   "number_sections": true,
   "sideBar": true,
   "skip_h1_title": false,
   "title_cell": "Table of Contents",
   "title_sidebar": "Contents",
   "toc_cell": false,
   "toc_position": {},
   "toc_section_display": true,
   "toc_window_display": false
  }
 },
 "nbformat": 4,
 "nbformat_minor": 4
}
